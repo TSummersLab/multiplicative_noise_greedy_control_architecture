{
 "cells": [
  {
   "cell_type": "markdown",
   "id": "d15c0028-0931-4a86-98dc-fa140cd2f192",
   "metadata": {},
   "source": [
    "# ARCHIVE: Benefit of MPL System Modelling\n",
    "True, Nominal, MPL model testing - comparison of actuator sets"
   ]
  },
  {
   "cell_type": "markdown",
   "id": "1d8fa32e-f769-4877-8c78-a500b0824240",
   "metadata": {
    "tags": []
   },
   "source": [
    "##### Py Packages"
   ]
  },
  {
   "cell_type": "code",
   "execution_count": 2,
   "id": "3f7cda21-fb90-4786-a674-eb1f07ad7870",
   "metadata": {},
   "outputs": [
    {
     "ename": "ImportError",
     "evalue": "cannot import name 'simulation_actuator_selection' from 'functionfile_system_mplcost' (C:\\Users\\kxg161630\\Documents\\GitDrop\\multiplicative_noise_system_simple_actuator_selection\\functionfile_system_mplcost.py)",
     "output_type": "error",
     "traceback": [
      "\u001B[1;31m---------------------------------------------------------------------------\u001B[0m",
      "\u001B[1;31mImportError\u001B[0m                               Traceback (most recent call last)",
      "Cell \u001B[1;32mIn [2], line 6\u001B[0m\n\u001B[0;32m      3\u001B[0m get_ipython()\u001B[38;5;241m.\u001B[39mrun_line_magic(\u001B[38;5;124m'\u001B[39m\u001B[38;5;124mmatplotlib\u001B[39m\u001B[38;5;124m'\u001B[39m, \u001B[38;5;124m'\u001B[39m\u001B[38;5;124mwidget\u001B[39m\u001B[38;5;124m'\u001B[39m)\n\u001B[0;32m      5\u001B[0m \u001B[38;5;28;01mfrom\u001B[39;00m \u001B[38;5;21;01mfunctionfile_system_definition\u001B[39;00m \u001B[38;5;28;01mimport\u001B[39;00m sys_from_file, system_display_matrix\n\u001B[1;32m----> 6\u001B[0m \u001B[38;5;28;01mfrom\u001B[39;00m \u001B[38;5;21;01mfunctionfile_system_mplcost\u001B[39;00m \u001B[38;5;28;01mimport\u001B[39;00m cost_function_1, initial_values_init, actuator_selection_cost_1, plot_actuator_selection_2, simulation_actuator_selection, plot_simulation\n",
      "\u001B[1;31mImportError\u001B[0m: cannot import name 'simulation_actuator_selection' from 'functionfile_system_mplcost' (C:\\Users\\kxg161630\\Documents\\GitDrop\\multiplicative_noise_system_simple_actuator_selection\\functionfile_system_mplcost.py)"
     ]
    }
   ],
   "source": [
    "import numpy as np\n",
    "from copy import deepcopy as dc\n",
    "%matplotlib widget\n",
    "\n",
    "from functionfile_system_definition import sys_from_file, system_display_matrix\n",
    "from functionfile_system_mplcost import cost_function_1, initial_values_init, actuator_selection_cost_1, plot_actuator_selection_2, simulation_actuator_selection, plot_simulation"
   ]
  },
  {
   "cell_type": "markdown",
   "id": "12c8fd3e-bcea-4fdc-ae00-4fee714c2f21",
   "metadata": {
    "tags": []
   },
   "source": [
    "## Code"
   ]
  },
  {
   "cell_type": "code",
   "execution_count": null,
   "id": "ef074208-1882-4702-b019-2c94f78c5899",
   "metadata": {},
   "outputs": [],
   "source": [
    "test_set = 'System Model 1'\n",
    "S_True = sys_from_file(test_set + ' C')\n",
    "# system_display_matrix(S_True)\n",
    "initial_values = initial_values_init(S_True)"
   ]
  },
  {
   "cell_type": "markdown",
   "id": "36b2a981-c3e0-4486-b121-7969926cef74",
   "metadata": {
    "tags": []
   },
   "source": [
    "## Control of True System based on Nominal System model"
   ]
  },
  {
   "cell_type": "markdown",
   "id": "a01a6935-6fbc-443c-80df-a942fad1b153",
   "metadata": {
    "tags": []
   },
   "source": [
    "##### Run Code"
   ]
  },
  {
   "cell_type": "code",
   "execution_count": null,
   "id": "7b381b1e-dcad-4966-a999-c03c5d8b8477",
   "metadata": {},
   "outputs": [],
   "source": [
    "S_Nominal = sys_from_file(test_set + ' A')"
   ]
  },
  {
   "cell_type": "code",
   "execution_count": null,
   "id": "5f29eaa8-2482-473d-8281-10cca0bb5109",
   "metadata": {},
   "outputs": [],
   "source": [
    "ret1_nom = actuator_selection_cost_1(S_Nominal, initial_values=initial_values)\n",
    "S_Nominal = dc(ret1_nom['system'])\n",
    "S_True1 = dc(S_True)\n",
    "S_True1['B'] = dc(S_Nominal['B'])\n",
    "ret2_nom = simulation_actuator_selection(S_Nominal, S_True1, initial_values=initial_values)"
   ]
  },
  {
   "cell_type": "markdown",
   "id": "f8d14756-93a8-47bd-ac7c-018ce41fc04b",
   "metadata": {},
   "source": [
    "##### Display Output"
   ]
  },
  {
   "cell_type": "code",
   "execution_count": null,
   "id": "6ccf2a8b-1423-4b67-b062-e98bbd7b761e",
   "metadata": {},
   "outputs": [],
   "source": [
    "plot_simulation(display_data=ret2_nom, fname='Nominal feedback on True System')"
   ]
  },
  {
   "cell_type": "markdown",
   "id": "d32b38d2-d97f-43ed-8237-1f18e4ee956b",
   "metadata": {
    "tags": []
   },
   "source": [
    "## Control of True System based on MPL System model"
   ]
  },
  {
   "cell_type": "markdown",
   "id": "2f95e649-c6c8-4810-8a78-8815b3a6dc4c",
   "metadata": {
    "tags": []
   },
   "source": [
    "##### Run Code"
   ]
  },
  {
   "cell_type": "code",
   "execution_count": null,
   "id": "ce0af870-8e81-4801-baa3-b8251d28174c",
   "metadata": {},
   "outputs": [],
   "source": [
    "S_MPL = sys_from_file(test_set + ' B')"
   ]
  },
  {
   "cell_type": "code",
   "execution_count": null,
   "id": "1ce917eb-7618-48e6-891b-4725bcb2b0ea",
   "metadata": {},
   "outputs": [],
   "source": [
    "ret1_MPL = actuator_selection_cost_1(S_MPL, initial_values=initial_values)\n",
    "S_MPL = dc(ret1_MPL['system'])\n",
    "S_True2 = dc(S_True)\n",
    "S_True2['B'] = dc(S_MPL['B'])\n",
    "ret2_MPL = simulation_actuator_selection(S_MPL, S_True2, initial_values=initial_values)"
   ]
  },
  {
   "cell_type": "markdown",
   "id": "3c32c28d-acf4-4aef-9703-9b67db03c903",
   "metadata": {
    "tags": []
   },
   "source": [
    "##### Display Output"
   ]
  },
  {
   "cell_type": "code",
   "execution_count": null,
   "id": "41214423-9f97-4967-8f50-cf9b0cfb78a7",
   "metadata": {
    "tags": []
   },
   "outputs": [],
   "source": [
    "plot_simulation(display_data=ret2_MPL, fname='MPL feedback on True System')"
   ]
  },
  {
   "cell_type": "markdown",
   "id": "3380b133-e950-4633-9bf1-04243fd0d096",
   "metadata": {},
   "source": [
    "## Comparisons"
   ]
  },
  {
   "cell_type": "code",
   "execution_count": null,
   "id": "632cd3b1-3a62-4297-8fab-3af08c309e1a",
   "metadata": {
    "tags": []
   },
   "outputs": [],
   "source": [
    "if np.allclose(S_Nominal['B'], S_MPL['B']):\n",
    "    print('Both control sets are close/equal')\n",
    "else:\n",
    "    print('Control sets are different')\n",
    "\n",
    "print('Nominal B:\\n', S_Nominal['B'])\n",
    "print('MPL B:\\n', S_MPL['B'])\n",
    "    \n",
    "print('\\n')\n",
    "\n",
    "print('Cost change with |S|:\\n')\n",
    "for i in ret2_nom['costs']:\n",
    "    print('|S|:',i, ' => Nom:', ret2_nom['costs'][i][-1], ' | MPL:', ret2_MPL['costs'][i][-1], ' | Nom-MPL:', ret2_nom['costs'][i][-1]-ret2_MPL['costs'][i][-1])"
   ]
  },
  {
   "cell_type": "markdown",
   "id": "88154d5f-5b98-48d1-a62d-8de6acde9757",
   "metadata": {
    "tags": []
   },
   "source": [
    "## Self-Control Tests"
   ]
  },
  {
   "cell_type": "markdown",
   "id": "c908b000-e301-4b6f-b9f0-fc87d0ad1050",
   "metadata": {
    "tags": []
   },
   "source": [
    "### Testing Nominal control on itself"
   ]
  },
  {
   "cell_type": "markdown",
   "id": "798c8092-607e-49b4-95e0-aa7414ccd9d0",
   "metadata": {
    "tags": []
   },
   "source": [
    "##### Run Code"
   ]
  },
  {
   "cell_type": "code",
   "execution_count": null,
   "id": "dd0b4eb1-a6c5-4721-bc5c-52bd4ea6f6e4",
   "metadata": {},
   "outputs": [],
   "source": [
    "ret3_nom = simulation_actuator_selection(S_Nominal, S_Nominal)"
   ]
  },
  {
   "cell_type": "markdown",
   "id": "9a2ac2ba-e9da-4652-87f8-492184edf699",
   "metadata": {},
   "source": [
    "##### Display Output"
   ]
  },
  {
   "cell_type": "code",
   "execution_count": null,
   "id": "c717f2b2-48a8-4bf4-a88a-b61af3dfe043",
   "metadata": {},
   "outputs": [],
   "source": [
    "# plot_actuator_selection_1(S_Nominal['B'], ret1_nom['cost_trend'], ret1_nom['time_trend'], ret1_nom['check_trend'], fname='Nominal Actuator Selection')"
   ]
  },
  {
   "cell_type": "code",
   "execution_count": null,
   "id": "0dc23aa7-b3b1-47ce-92d6-2c2b9b6fd4e3",
   "metadata": {},
   "outputs": [],
   "source": [
    "plot_simulation(display_data=ret3_nom, fname='Nominal feedback on Nominal System')\n",
    "for i in ret3_nom['costs']:\n",
    "    print('|S|:',i, ' => ', ret3_nom['costs'][i][-1])"
   ]
  },
  {
   "cell_type": "markdown",
   "id": "0fdd0e2c-ea97-4c0d-bec3-b9d82ce36282",
   "metadata": {
    "tags": []
   },
   "source": [
    "### Testing MPL control on itself"
   ]
  },
  {
   "cell_type": "markdown",
   "id": "facf3752-4da7-4ecd-955d-32f78c5387de",
   "metadata": {
    "tags": []
   },
   "source": [
    "##### Run Code"
   ]
  },
  {
   "cell_type": "code",
   "execution_count": null,
   "id": "cc7b6d69-b1bd-4f60-849d-6f9526c81ffc",
   "metadata": {},
   "outputs": [],
   "source": [
    "ret3_MPL = simulation_actuator_selection(S_MPL, S_MPL)"
   ]
  },
  {
   "cell_type": "markdown",
   "id": "47b7e7c0-1b61-4b32-861a-7ca4a534bf38",
   "metadata": {},
   "source": [
    "##### Display Output"
   ]
  },
  {
   "cell_type": "code",
   "execution_count": null,
   "id": "6da67738-347b-4350-8dcc-77464c4fb105",
   "metadata": {},
   "outputs": [],
   "source": [
    "# plot_actuator_selection_1(S_MPL['B'], ret1_MPL['cost_trend'], ret1_MPL['time_trend'], ret1_MPL['check_trend'], fname='MPL Actuator Selection')"
   ]
  },
  {
   "cell_type": "code",
   "execution_count": null,
   "id": "e5d1e98b-ad3d-45c6-9d34-03a344549d95",
   "metadata": {},
   "outputs": [],
   "source": [
    "plot_simulation(display_data=ret3_MPL, fname='MPL feedback on MPL System')\n",
    "for i in ret3_MPL['costs']:\n",
    "    print('|S|:',i, ' => ', ret3_MPL['costs'][i][-1])"
   ]
  },
  {
   "cell_type": "markdown",
   "id": "ec44b7d7-cd02-4b04-8758-3755fc6d662f",
   "metadata": {},
   "source": [
    "## Run Complete"
   ]
  },
  {
   "cell_type": "code",
   "execution_count": null,
   "id": "4ff170bb-a309-46f1-9317-db39840e54c6",
   "metadata": {},
   "outputs": [],
   "source": [
    "print('Run Complete')"
   ]
  }
 ],
 "metadata": {
  "kernelspec": {
   "display_name": "Python 3 (ipykernel)",
   "language": "python",
   "name": "python3"
  },
  "language_info": {
   "codemirror_mode": {
    "name": "ipython",
    "version": 3
   },
   "file_extension": ".py",
   "mimetype": "text/x-python",
   "name": "python",
   "nbconvert_exporter": "python",
   "pygments_lexer": "ipython3",
   "version": "3.9.6"
  }
 },
 "nbformat": 4,
 "nbformat_minor": 5
}
